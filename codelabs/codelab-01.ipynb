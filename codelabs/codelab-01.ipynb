{
  "nbformat": 4,
  "nbformat_minor": 0,
  "metadata": {
    "colab": {
      "provenance": [],
      "toc_visible": true,
      "include_colab_link": true
    },
    "kernelspec": {
      "name": "python3",
      "display_name": "Python 3"
    },
    "language_info": {
      "name": "python"
    }
  },
  "cells": [
    {
      "cell_type": "markdown",
      "metadata": {
        "id": "view-in-github",
        "colab_type": "text"
      },
      "source": [
        "<a href=\"https://colab.research.google.com/github/Neiscafe/cadeiras-uninter/blob/main/codelabs/codelab-01.ipynb\" target=\"_parent\"><img src=\"https://colab.research.google.com/assets/colab-badge.svg\" alt=\"Open In Colab\"/></a>"
      ]
    },
    {
      "cell_type": "markdown",
      "source": [
        "# Método de Gauss-Seidel"
      ],
      "metadata": {
        "id": "rAcJolsHXoOZ"
      }
    },
    {
      "cell_type": "markdown",
      "source": [
        "Sistema utilizado:\n",
        "\n",
        "2t + x + n = 39\n",
        "\n",
        "0,3t + 2x + 0,25n = 13\n",
        "\n",
        "t + x + 2n = 45"
      ],
      "metadata": {
        "id": "jRXoO-gXecGv"
      }
    },
    {
      "cell_type": "markdown",
      "source": [
        "Equações utilizadas:\n",
        "\n",
        "t = (-x - n + 39)/2\n",
        "\n",
        "x = (-0,3t - 0,25n + 13)/2\n",
        "\n",
        "n = (-t - x + 45)/2"
      ],
      "metadata": {
        "id": "HnEJaXIEe4bd"
      }
    },
    {
      "cell_type": "code",
      "source": [
        "from numpy import linalg as la\n",
        "import numpy as np\n",
        "\n",
        "t = 0.0\n",
        "x = 0.0\n",
        "n = 0.0\n",
        "k = 0\n",
        "\n",
        "mX = [[t], [x], [n]]\n"
      ],
      "metadata": {
        "id": "W_kGdukbXy2Q"
      },
      "execution_count": null,
      "outputs": []
    },
    {
      "cell_type": "markdown",
      "source": [
        "Para o método de Gauss-Seidel, é necessário isolar cada variável do sistema de equações, para isso, deve ser verificado se o módulo do coeficiente da variável isolada é maior ou igual à soma dos módulos dos coeficientes restantes na equação."
      ],
      "metadata": {
        "id": "T8SOlSkNZkfQ"
      }
    },
    {
      "cell_type": "code",
      "source": [
        "erroT = False\n",
        "erroX = False\n",
        "erroN = False\n",
        "while erroT==False and erroX==False and erroN==False:\n",
        "  t1 = (39-x-n)/2\n",
        "  x1 = (13-(0.3*t1)-(0.25*n))\n",
        "  n1 = (45-t1-x1)/2\n",
        "  erroT = t1<0.001 or t1 == t\n",
        "  erroX = x1<0.001 or x1 == x\n",
        "  erroN = n1<0.001 or n1 == n\n",
        "  if erroT==False and erroX==False and erroN==False:\n",
        "    t = t1\n",
        "    x = x1\n",
        "    n = n1\n",
        "    k = k+1\n",
        "  print(\"t1 = \",t1)\n",
        "  print(\"x1 = \",x1)\n",
        "  print(\"n1 = \",n1)\n",
        "  print(\"k = \",k)\n",
        "print(\"t =\", t)\n",
        "print(\"x =\", x)\n",
        "print(\"n =\", n)\n",
        "print(\"k =\", k)"
      ],
      "metadata": {
        "colab": {
          "base_uri": "https://localhost:8080/",
          "height": 215
        },
        "id": "IMpMVUxXZt55",
        "outputId": "3ef11389-7850-4540-ce09-43aad63a8347"
      },
      "execution_count": 13,
      "outputs": [
        {
          "output_type": "error",
          "ename": "NameError",
          "evalue": "name 'x' is not defined",
          "traceback": [
            "\u001b[0;31m---------------------------------------------------------------------------\u001b[0m",
            "\u001b[0;31mNameError\u001b[0m                                 Traceback (most recent call last)",
            "\u001b[0;32m/tmp/ipython-input-3599361812.py\u001b[0m in \u001b[0;36m<cell line: 0>\u001b[0;34m()\u001b[0m\n\u001b[1;32m      3\u001b[0m \u001b[0merroN\u001b[0m \u001b[0;34m=\u001b[0m \u001b[0;32mFalse\u001b[0m\u001b[0;34m\u001b[0m\u001b[0;34m\u001b[0m\u001b[0m\n\u001b[1;32m      4\u001b[0m \u001b[0;32mwhile\u001b[0m \u001b[0merroT\u001b[0m\u001b[0;34m==\u001b[0m\u001b[0;32mFalse\u001b[0m \u001b[0;32mand\u001b[0m \u001b[0merroX\u001b[0m\u001b[0;34m==\u001b[0m\u001b[0;32mFalse\u001b[0m \u001b[0;32mand\u001b[0m \u001b[0merroN\u001b[0m\u001b[0;34m==\u001b[0m\u001b[0;32mFalse\u001b[0m\u001b[0;34m:\u001b[0m\u001b[0;34m\u001b[0m\u001b[0;34m\u001b[0m\u001b[0m\n\u001b[0;32m----> 5\u001b[0;31m   \u001b[0mt1\u001b[0m \u001b[0;34m=\u001b[0m \u001b[0;34m(\u001b[0m\u001b[0;36m39\u001b[0m\u001b[0;34m-\u001b[0m\u001b[0mx\u001b[0m\u001b[0;34m-\u001b[0m\u001b[0mn\u001b[0m\u001b[0;34m)\u001b[0m\u001b[0;34m/\u001b[0m\u001b[0;36m2\u001b[0m\u001b[0;34m\u001b[0m\u001b[0;34m\u001b[0m\u001b[0m\n\u001b[0m\u001b[1;32m      6\u001b[0m   \u001b[0mx1\u001b[0m \u001b[0;34m=\u001b[0m \u001b[0;34m(\u001b[0m\u001b[0;36m13\u001b[0m\u001b[0;34m-\u001b[0m\u001b[0;34m(\u001b[0m\u001b[0;36m0.3\u001b[0m\u001b[0;34m*\u001b[0m\u001b[0mt1\u001b[0m\u001b[0;34m)\u001b[0m\u001b[0;34m-\u001b[0m\u001b[0;34m(\u001b[0m\u001b[0;36m0.25\u001b[0m\u001b[0;34m*\u001b[0m\u001b[0mn\u001b[0m\u001b[0;34m)\u001b[0m\u001b[0;34m)\u001b[0m\u001b[0;34m\u001b[0m\u001b[0;34m\u001b[0m\u001b[0m\n\u001b[1;32m      7\u001b[0m   \u001b[0mn1\u001b[0m \u001b[0;34m=\u001b[0m \u001b[0;34m(\u001b[0m\u001b[0;36m45\u001b[0m\u001b[0;34m-\u001b[0m\u001b[0mt1\u001b[0m\u001b[0;34m-\u001b[0m\u001b[0mx1\u001b[0m\u001b[0;34m)\u001b[0m\u001b[0;34m/\u001b[0m\u001b[0;36m2\u001b[0m\u001b[0;34m\u001b[0m\u001b[0;34m\u001b[0m\u001b[0m\n",
            "\u001b[0;31mNameError\u001b[0m: name 'x' is not defined"
          ]
        }
      ]
    },
    {
      "cell_type": "markdown",
      "source": [],
      "metadata": {
        "id": "wEPEmXsEZiX7"
      }
    },
    {
      "cell_type": "markdown",
      "source": [
        "# APOL 1 Ex. 3"
      ],
      "metadata": {
        "id": "v_S8EYgGi_Nv"
      }
    },
    {
      "cell_type": "code",
      "source": [],
      "metadata": {
        "id": "uJREpJ6lrV2x"
      },
      "execution_count": null,
      "outputs": []
    },
    {
      "cell_type": "code",
      "source": [],
      "metadata": {
        "id": "HBPTf2QDdVFx"
      },
      "execution_count": null,
      "outputs": []
    },
    {
      "cell_type": "markdown",
      "source": [
        "Utilizando o processo de Gauss-Seidel com precisão de 10-2 e realizando os cálculos com arredondamento na sexta casa decimal, que resultados são obtidos para o sistema:\n",
        "\n",
        "\n",
        "x1+8x2+2x3=10\n",
        "\n",
        "\n",
        "15x1+x2+2x3=13\n",
        "\n",
        "\n",
        "x1+2x2+3x3=-4\n",
        "\n",
        "Fórmulas:\n",
        "\n",
        "13-15x1=x2+2x3  =>  x1 = (-x2-x3+13)/15\n",
        "\n",
        "10-8x2 = x1+2x3  => x2 = (-x1-2x3+10)/8\n",
        "\n",
        "-4-3x3 = x1+2x2  => x3 = (-x1-2x2+4)/3"
      ],
      "metadata": {
        "id": "BZReDQdErVKS"
      }
    },
    {
      "cell_type": "code",
      "source": [
        "from numpy import linalg as la\n",
        "import numpy as np\n",
        "x1 = 0.0\n",
        "x2 = 0.0\n",
        "x3 = 0.0\n",
        "k = 0\n",
        "\n",
        "while(True):\n",
        "  parada = False\n",
        "  _x1 = (-1*x2-1*x3+13)/15\n",
        "  _x2 = (-1*_x1-2*x3+10)/8\n",
        "  _x3 = (-1*_x1-2*_x2+4)/3\n",
        "  parada = _x1-x1<0.01 and _x2-x2<0.01 and _x3-x3<0.01\n",
        "  if parada:\n",
        "    break\n",
        "  x1 = _x1\n",
        "  x2 = _x2\n",
        "  x3 = _x3\n",
        "  k = k+1\n",
        "print(\"t = \",x1)\n",
        "print(\"x = \",x2)\n",
        "print(\"n = \", x3)\n",
        "print(\"k = \", k)\n"
      ],
      "metadata": {
        "id": "mabpzC6KjEtc",
        "colab": {
          "base_uri": "https://localhost:8080/"
        },
        "outputId": "97293a73-be16-4ace-c913-de4ff6e9693a"
      },
      "execution_count": 16,
      "outputs": [
        {
          "output_type": "stream",
          "name": "stdout",
          "text": [
            "t =  0.7708657407407408\n",
            "x =  1.0650653935185186\n",
            "n =  0.36633449074074065\n",
            "k =  3\n"
          ]
        }
      ]
    },
    {
      "cell_type": "markdown",
      "source": [
        "# Regra de Cramer"
      ],
      "metadata": {
        "id": "_OxEXcnUOYR-"
      }
    },
    {
      "cell_type": "code",
      "source": [
        "from numpy import matrix, linalg\n",
        "import numpy as np\n",
        "\n",
        "print(\"Solução pelo Método de Cramer\")\n",
        "mA = np.array([[8.165956, 5.000000], [2.000000, 6.647982]])\n",
        "mB = np.array([[0.000011], [0.020761]])\n",
        "print(mA)\n",
        "print(mB)\n",
        "\n",
        "\n",
        "mT = np.copy(mA);\n",
        "mT[0][0] = mB[0][0]\n",
        "mT[1][0] = mB[1][0]\n",
        "# mT[2][0] = mB[2][0]\n",
        "\n",
        "print(mT)\n",
        "\n",
        "mX = np.copy(mA);\n",
        "mX[0][1] = mB[0][0]\n",
        "mX[1][1] = mB[1][0]\n",
        "# mX[2][1] = mB[2][0]\n",
        "print(mX)\n",
        "# mZ = np.copy(mA);\n",
        "# mZ[0][2] = mB[0][0]\n",
        "# mZ[1][2] = mB[1][0]\n",
        "# mZ[2][2] = mB[2][0]\n",
        "# print(mZ)\n",
        "detA = np.linalg.det(mA)\n",
        "detT = np.linalg.det(mT)\n",
        "detX = np.linalg.det(mX)\n",
        "# detZ = np.linalg.det(mZ)\n",
        "\n",
        "s1 = detT/detA\n",
        "s2 = detX/detA\n",
        "# s3 = detZ/detA\n",
        "print(fr\"{s1} | {s2} \")\n"
      ],
      "metadata": {
        "colab": {
          "base_uri": "https://localhost:8080/"
        },
        "id": "Dghs2UQwPDpK",
        "outputId": "7a885a5c-cce9-45aa-d090-aa4c7423760c"
      },
      "execution_count": 11,
      "outputs": [
        {
          "output_type": "stream",
          "name": "stdout",
          "text": [
            "Solução pelo Método de Cramer\n",
            "[[8.165956 5.      ]\n",
            " [2.       6.647982]]\n",
            "[[1.1000e-05]\n",
            " [2.0761e-02]]\n",
            "[[1.100000e-05 5.000000e+00]\n",
            " [2.076100e-02 6.647982e+00]]\n",
            "[[8.165956e+00 1.100000e-05]\n",
            " [2.000000e+00 2.076100e-02]]\n",
            "-0.0023422578006190883 | 0.0038275548281024503 \n"
          ]
        }
      ]
    },
    {
      "cell_type": "markdown",
      "source": [
        "# Algoritmo que resolve sistemas de equação não-linear por Newton"
      ],
      "metadata": {
        "id": "3DzQvE89mULa"
      }
    },
    {
      "cell_type": "code",
      "source": [
        "import numpy as np\n",
        "\n",
        "def F(x):\n",
        "    \"\"\"\n",
        "    Define o sistema de equações não-lineares na forma F(X) = 0.\n",
        "\n",
        "    Args:\n",
        "        x (np.array): Vetor de entrada [x1, x2].\n",
        "\n",
        "    Returns:\n",
        "        np.array: Vetor com o resultado das funções [f1, f2].\n",
        "    \"\"\"\n",
        "    x1 = x[0]\n",
        "    x2 = x[1]\n",
        "\n",
        "\n",
        "    # AJUSTAR AQUI\n",
        "\n",
        "\n",
        "    f1 = 3.0 * x1**2 + 5.0 * x2 - 13.0\n",
        "\n",
        "\n",
        "    # AJUSTAR AQUI\n",
        "\n",
        "\n",
        "    f2 = 2.0 * x1 + x2**3 - 6.0\n",
        "\n",
        "    return np.array([f1, f2])\n",
        "\n",
        "def J(x):\n",
        "    \"\"\"\n",
        "    Define a Matriz Jacobiana do sistema F(X).\n",
        "\n",
        "    Args:\n",
        "        x (np.array): Vetor de entrada [x1, x2].\n",
        "\n",
        "    Returns:\n",
        "        np.array: Matriz Jacobiana 2x2.\n",
        "    \"\"\"\n",
        "\n",
        "\n",
        "# AJUSTAR AQUI\n",
        "\n",
        "\n",
        "    x1 = x[0]\n",
        "    x2 = x[1]\n",
        "\n",
        "    # J = [[df1/dx1, df1/dx2],\n",
        "    #      [df2/dx1, df2/dx2]]\n",
        "    return np.array([[6.0 * x1, 5.0],\n",
        "                       [2.0, 3.0 * x2**2]])\n",
        "\n",
        "def newton_system_solver(F, J, x0, tol, max_iter=50):\n",
        "    \"\"\"\n",
        "    Resolve um sistema de equações não-lineares usando o método de Newton.\n",
        "\n",
        "    Args:\n",
        "        F (function): Função que define o sistema.\n",
        "        J (function): Função que define a Matriz Jacobiana.\n",
        "        x0 (np.array): Chute inicial.\n",
        "        tol (float): Tolerância (precisão) para o critério de parada.\n",
        "        max_iter (int): Número máximo de iterações.\n",
        "\n",
        "    Returns:\n",
        "        tuple: A solução (np.array) e o número de iterações.\n",
        "    \"\"\"\n",
        "    x = np.array(x0, dtype=float) # Garante que estamos usando floats\n",
        "\n",
        "    print(\"--- Iniciando Método de Newton ---\")\n",
        "    print(f\"Chute Inicial x(0): {x}\")\n",
        "    print(f\"Tolerância: {tol}\\n\")\n",
        "\n",
        "    for k in range(max_iter):\n",
        "\n",
        "        F_val = F(x)\n",
        "        J_val = J(x)\n",
        "\n",
        "        try:\n",
        "            delta_x = np.linalg.solve(J_val, -F_val)\n",
        "        except np.linalg.LinAlgError:\n",
        "            print(\"Erro: Matriz Jacobiana singular. Não é possível continuar.\")\n",
        "            return None, k\n",
        "\n",
        "\n",
        "        x = x + delta_x\n",
        "\n",
        "        # Passo 4: Checar o critério de parada (erro relativo)\n",
        "        # Usamos a norma do máximo, como no cálculo manual\n",
        "        error = np.max(np.abs(delta_x) / (np.abs(x) + 1e-10)) # 1e-10 evita divisão por zero\n",
        "\n",
        "        print(f\"--- Iteração {k+1} ---\")\n",
        "        print(f\"Vetor F(x): {F_val}\")\n",
        "        print(f\"Correção delta_x: {delta_x}\")\n",
        "        print(f\"Nova solução x({k+1}): {x}\")\n",
        "        print(f\"Erro relativo: {error:.6f}\\n\")\n",
        "\n",
        "        if error < tol:\n",
        "            print(f\"Convergência atingida após {k+1} iterações.\")\n",
        "            return x, k + 1\n",
        "\n",
        "    print(\"Aviso: Número máximo de iterações atingido sem convergência.\")\n",
        "    return x, max_iter\n",
        "\n",
        "\n",
        "\n",
        "# AJUSTAR AQUI\n",
        "\n",
        "\n",
        "chute_inicial = [0.0, 0.0]\n",
        "tolerancia = 1e-2\n",
        "\n",
        "solucao, iteracoes = newton_system_solver(F, J, chute_inicial, tolerancia)\n",
        "\n",
        "if solucao is not None:\n",
        "    print(\"\\n--- Resultado Final ---\")\n",
        "\n",
        "# AJUSTAR AQUI\n",
        "\n",
        "    print(f\"A solução para o sistema é x1 = {solucao[0]:.6f} e x2 = {solucao[1]:.6f}\")\n",
        "    print(f\"Obtida em {iteracoes} iterações.\")"
      ],
      "metadata": {
        "colab": {
          "base_uri": "https://localhost:8080/"
        },
        "id": "g55iOzqzmSDC",
        "outputId": "b0ae77a3-19fe-46aa-f8a3-3ea27dae233d"
      },
      "execution_count": 12,
      "outputs": [
        {
          "output_type": "stream",
          "name": "stdout",
          "text": [
            "--- Iniciando Método de Newton ---\n",
            "Chute Inicial x(0): [0. 0.]\n",
            "Tolerância: 0.01\n",
            "\n",
            "--- Iteração 1 ---\n",
            "Vetor F(x): [-13.  -6.]\n",
            "Correção delta_x: [3.  2.6]\n",
            "Nova solução x(1): [3.  2.6]\n",
            "Erro relativo: 1.000000\n",
            "\n",
            "--- Iteração 2 ---\n",
            "Vetor F(x): [27.    17.576]\n",
            "Correção delta_x: [-1.29472735 -0.73898152]\n",
            "Nova solução x(2): [1.70527265 1.86101848]\n",
            "Erro relativo: 0.759249\n",
            "\n",
            "--- Iteração 3 ---\n",
            "Vetor F(x): [5.02895677 3.85597765]\n",
            "Correção delta_x: [-0.34235658 -0.30521779]\n",
            "Nova solução x(3): [1.36291607 1.55580069]\n",
            "Erro relativo: 0.251194\n",
            "\n",
            "--- Iteração 4 ---\n",
            "Vetor F(x): [0.35162408 0.49167226]\n",
            "Correção delta_x: [-0.00192327 -0.06717931]\n",
            "Nova solução x(4): [1.3609928  1.48862138]\n",
            "Erro relativo: 0.045129\n",
            "\n",
            "--- Iteração 5 ---\n",
            "Vetor F(x): [1.10969132e-05 2.07610781e-02]\n",
            "Correção delta_x: [ 0.00234225 -0.00382757]\n",
            "Nova solução x(5): [1.36333505 1.48479382]\n",
            "Erro relativo: 0.002578\n",
            "\n",
            "Convergência atingida após 5 iterações.\n",
            "\n",
            "--- Resultado Final ---\n",
            "A solução para o sistema é x1 = 1.363335 e x2 = 1.484794\n",
            "Obtida em 5 iterações.\n"
          ]
        }
      ]
    },
    {
      "cell_type": "markdown",
      "source": [
        "# Eliminação de Gauss"
      ],
      "metadata": {
        "id": "Y-yOF0rm5g6s"
      }
    },
    {
      "cell_type": "code",
      "source": [
        "import numpy as np\n",
        "\n",
        "def eliminacao_gauss(A, b):\n",
        "    \"\"\"\n",
        "    Resolve um sistema de equações lineares Ax = b usando o método de\n",
        "    Eliminação de Gauss com pivoteamento parcial.\n",
        "\n",
        "    Args:\n",
        "        A (np.array): Matriz de coeficientes (quadrada).\n",
        "        b (np.array): Vetor de resultados.\n",
        "\n",
        "    Returns:\n",
        "        np.array: Vetor da solução x, ou None se o sistema não tiver solução única.\n",
        "    \"\"\"\n",
        "    n = len(b)\n",
        "    # Garante que as matrizes usem ponto flutuante para as divisões\n",
        "    A = A.astype(float)\n",
        "    b = b.astype(float)\n",
        "\n",
        "    # Construção da matriz aumentada [A|b]\n",
        "    M = np.hstack([A, b.reshape(-1, 1)])\n",
        "\n",
        "    print(\"--- Matriz Aumentada Inicial ---\")\n",
        "    print(M)\n",
        "    print(\"-\" * 30)\n",
        "\n",
        "    # --- Fase 1: Eliminação Progressiva (com Pivoteamento Parcial) ---\n",
        "    for j in range(n):\n",
        "        # Pivoteamento: encontrar a linha com o maior pivô\n",
        "        max_row_index = np.argmax(np.abs(M[j:, j])) + j\n",
        "\n",
        "        # Trocar a linha atual (j) com a linha do maior pivô\n",
        "        if max_row_index != j:\n",
        "            M[[j, max_row_index]] = M[[max_row_index, j]]\n",
        "            print(f\"\\n(Pivoteamento) Trocou linha {j+1} com {max_row_index+1}\")\n",
        "            print(M)\n",
        "\n",
        "        # Verificar se o pivô é zero (sistema singular ou com múltiplas soluções)\n",
        "        if M[j, j] == 0:\n",
        "            print(\"Erro: O sistema não tem solução única (pivô nulo).\")\n",
        "            return None\n",
        "\n",
        "        # Eliminação: zerar os elementos abaixo do pivô\n",
        "        for i in range(j + 1, n):\n",
        "            fator = M[i, j] / M[j, j]\n",
        "            M[i, j:] = M[i, j:] - fator * M[j, j:]\n",
        "\n",
        "        print(f\"\\n--- Após zerar a coluna {j+1} ---\")\n",
        "        print(M)\n",
        "\n",
        "    # --- Fase 2: Substituição Regressiva ---\n",
        "    x = np.zeros(n)\n",
        "\n",
        "    # Resolve para a última variável primeiro\n",
        "    x[n-1] = M[n-1, n] / M[n-1, n-1]\n",
        "\n",
        "    # Itera de baixo para cima para encontrar as outras variáveis\n",
        "    for i in range(n - 2, -1, -1):\n",
        "        soma_ax = np.dot(M[i, i+1:n], x[i+1:n])\n",
        "        x[i] = (M[i, n] - soma_ax) / M[i, i]\n",
        "\n",
        "    return x\n",
        "\n",
        "# --- Exemplo de Uso ---\n",
        "# Usando o mesmo sistema da questão anterior:\n",
        "# 15x1 + x2 + 2x3 = 13\n",
        "# x1 + 8x2 + 2x3 = 10\n",
        "# x1 + 2x2 + 3x3 = -4\n",
        "\n",
        "# Matriz de coeficientes\n",
        "A = np.array([[15, 1, 2],\n",
        "              [1, 8, 2],\n",
        "              [1, 2, 3]])\n",
        "\n",
        "# Vetor de resultados\n",
        "b = np.array([13, 10, -4])\n",
        "\n",
        "# Chamando a função para resolver o sistema\n",
        "solucao = eliminacao_gauss(A, b)\n",
        "\n",
        "# Exibindo o resultado final\n",
        "if solucao is not None:\n",
        "    print(\"\\n--- Resultado Final ---\")\n",
        "    print(f\"A solução para o sistema é: {solucao}\")\n",
        "    print(f\"x1 = {solucao[0]:.6f}\")\n",
        "    print(f\"x2 = {solucao[1]:.6f}\")\n",
        "    print(f\"x3 = {solucao[2]:.6f}\")"
      ],
      "metadata": {
        "id": "qoAosUdT5i_D",
        "outputId": "2eba4786-5fc4-4361-95fa-68b440c55b74",
        "colab": {
          "base_uri": "https://localhost:8080/"
        }
      },
      "execution_count": 17,
      "outputs": [
        {
          "output_type": "stream",
          "name": "stdout",
          "text": [
            "--- Matriz Aumentada Inicial ---\n",
            "[[15.  1.  2. 13.]\n",
            " [ 1.  8.  2. 10.]\n",
            " [ 1.  2.  3. -4.]]\n",
            "------------------------------\n",
            "\n",
            "--- Após zerar a coluna 1 ---\n",
            "[[15.          1.          2.         13.        ]\n",
            " [ 0.          7.93333333  1.86666667  9.13333333]\n",
            " [ 0.          1.93333333  2.86666667 -4.86666667]]\n",
            "\n",
            "--- Após zerar a coluna 2 ---\n",
            "[[15.          1.          2.         13.        ]\n",
            " [ 0.          7.93333333  1.86666667  9.13333333]\n",
            " [ 0.          0.          2.41176471 -7.09243697]]\n",
            "\n",
            "--- Após zerar a coluna 3 ---\n",
            "[[15.          1.          2.         13.        ]\n",
            " [ 0.          7.93333333  1.86666667  9.13333333]\n",
            " [ 0.          0.          2.41176471 -7.09243697]]\n",
            "\n",
            "--- Resultado Final ---\n",
            "A solução para o sistema é: [ 1.1358885   1.84320557 -2.94076655]\n",
            "x1 = 1.135889\n",
            "x2 = 1.843206\n",
            "x3 = -2.940767\n"
          ]
        }
      ]
    },
    {
      "cell_type": "markdown",
      "source": [
        "# Gauss-Jordan"
      ],
      "metadata": {
        "id": "dnhqnqIR6amr"
      }
    },
    {
      "cell_type": "code",
      "source": [
        "import numpy as np\n",
        "\n",
        "def gauss_jordan(A, b):\n",
        "    \"\"\"\n",
        "    Resolve um sistema de equações lineares Ax = b usando o método de Gauss-Jordan\n",
        "    com pivoteamento parcial.\n",
        "\n",
        "    Args:\n",
        "        A (np.array): Matriz de coeficientes (quadrada).\n",
        "        b (np.array): Vetor de resultados.\n",
        "\n",
        "    Returns:\n",
        "        np.array: Vetor da solução x, ou None se o sistema não tiver solução única.\n",
        "    \"\"\"\n",
        "    n = len(b)\n",
        "    # Garante que as matrizes usem ponto flutuante\n",
        "    A = A.astype(float)\n",
        "    b = b.astype(float)\n",
        "\n",
        "    # Construção da matriz aumentada [A|b]\n",
        "    M = np.hstack([A, b.reshape(-1, 1)])\n",
        "\n",
        "    print(\"--- Matriz Aumentada Inicial ---\")\n",
        "    print(M)\n",
        "    print(\"-\" * 30)\n",
        "\n",
        "    # Loop principal para cada coluna/pivô\n",
        "    for j in range(n):\n",
        "        # Passo 1: Pivoteamento Parcial\n",
        "        max_row_index = np.argmax(np.abs(M[j:, j])) + j\n",
        "\n",
        "        if max_row_index != j:\n",
        "            M[[j, max_row_index]] = M[[max_row_index, j]]\n",
        "            print(f\"\\n(Pivoteamento) Trocou linha {j+1} com {max_row_index+1}\")\n",
        "\n",
        "        # Verificar se o pivô é zero\n",
        "        pivot = M[j, j]\n",
        "        if pivot == 0:\n",
        "            print(\"Erro: O sistema não tem solução única (pivô nulo).\")\n",
        "            return None\n",
        "\n",
        "        # Passo 2: Normalização da linha do pivô\n",
        "        M[j, :] = M[j, :] / pivot\n",
        "\n",
        "        # Passo 3: Eliminação dos elementos da coluna do pivô em TODAS as outras linhas\n",
        "        for i in range(n):\n",
        "            if i != j:  # Não aplica a operação na própria linha do pivô\n",
        "                fator = M[i, j]\n",
        "                M[i, :] = M[i, :] - fator * M[j, :]\n",
        "\n",
        "        print(f\"\\n--- Após processar a coluna {j+1} ---\")\n",
        "        print(np.round(M, 6)) # Arredonda para melhor visualização\n",
        "\n",
        "    # A última coluna da matriz M agora é a solução\n",
        "    x = M[:, n]\n",
        "\n",
        "    return x\n",
        "\n",
        "# --- Exemplo de Uso ---\n",
        "# Usando o mesmo sistema das questões anteriores:\n",
        "# 15x1 + x2 + 2x3 = 13\n",
        "# x1 + 8x2 + 2x3 = 10\n",
        "# x1 + 2x2 + 3x3 = -4\n",
        "\n",
        "A = np.array([[15, 1, 2],\n",
        "              [1, 8, 2],\n",
        "              [1, 2, 3]])\n",
        "\n",
        "b = np.array([13, 10, -4])\n",
        "\n",
        "# Chamando a função para resolver o sistema\n",
        "solucao = gauss_jordan(A, b)\n",
        "\n",
        "# Exibindo o resultado final\n",
        "if solucao is not None:\n",
        "    print(\"\\n--- Resultado Final ---\")\n",
        "    print(f\"A solução para o sistema é: {solucao}\")\n",
        "    print(f\"x1 = {solucao[0]:.6f}\")\n",
        "    print(f\"x2 = {solucao[1]:.6f}\")\n",
        "    print(f\"x3 = {solucao[2]:.6f}\")"
      ],
      "metadata": {
        "id": "HLzuKci06dZt",
        "outputId": "7ac54a19-5a0c-4aee-df0e-c731390038d4",
        "colab": {
          "base_uri": "https://localhost:8080/"
        }
      },
      "execution_count": 18,
      "outputs": [
        {
          "output_type": "stream",
          "name": "stdout",
          "text": [
            "--- Matriz Aumentada Inicial ---\n",
            "[[15.  1.  2. 13.]\n",
            " [ 1.  8.  2. 10.]\n",
            " [ 1.  2.  3. -4.]]\n",
            "------------------------------\n",
            "\n",
            "--- Após processar a coluna 1 ---\n",
            "[[ 1.        0.066667  0.133333  0.866667]\n",
            " [ 0.        7.933333  1.866667  9.133333]\n",
            " [ 0.        1.933333  2.866667 -4.866667]]\n",
            "\n",
            "--- Após processar a coluna 2 ---\n",
            "[[ 1.        0.        0.117647  0.789916]\n",
            " [ 0.        1.        0.235294  1.151261]\n",
            " [ 0.        0.        2.411765 -7.092437]]\n",
            "\n",
            "--- Após processar a coluna 3 ---\n",
            "[[ 1.        0.        0.        1.135889]\n",
            " [ 0.        1.        0.        1.843206]\n",
            " [ 0.        0.        1.       -2.940767]]\n",
            "\n",
            "--- Resultado Final ---\n",
            "A solução para o sistema é: [ 1.1358885   1.84320557 -2.94076655]\n",
            "x1 = 1.135889\n",
            "x2 = 1.843206\n",
            "x3 = -2.940767\n"
          ]
        }
      ]
    }
  ]
}