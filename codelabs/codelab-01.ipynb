{
  "nbformat": 4,
  "nbformat_minor": 0,
  "metadata": {
    "colab": {
      "provenance": [],
      "toc_visible": true,
      "include_colab_link": true
    },
    "kernelspec": {
      "name": "python3",
      "display_name": "Python 3"
    },
    "language_info": {
      "name": "python"
    }
  },
  "cells": [
    {
      "cell_type": "markdown",
      "metadata": {
        "id": "view-in-github",
        "colab_type": "text"
      },
      "source": [
        "<a href=\"https://colab.research.google.com/github/Neiscafe/cadeiras-uninter/blob/main/codelabs/codelab-01.ipynb\" target=\"_parent\"><img src=\"https://colab.research.google.com/assets/colab-badge.svg\" alt=\"Open In Colab\"/></a>"
      ]
    },
    {
      "cell_type": "markdown",
      "source": [
        "# Método de Gauss-Seidel"
      ],
      "metadata": {
        "id": "rAcJolsHXoOZ"
      }
    },
    {
      "cell_type": "markdown",
      "source": [
        "Sistema utilizado:\n",
        "\n",
        "2t + x + n = 39\n",
        "\n",
        "0,3t + 2x + 0,25n = 13\n",
        "\n",
        "t + x + 2n = 45"
      ],
      "metadata": {
        "id": "jRXoO-gXecGv"
      }
    },
    {
      "cell_type": "markdown",
      "source": [
        "Equações utilizadas:\n",
        "\n",
        "t = (-x - n + 39)/2\n",
        "\n",
        "x = (-0,3t - 0,25n + 13)/2\n",
        "\n",
        "n = (-t - x + 45)/2"
      ],
      "metadata": {
        "id": "HnEJaXIEe4bd"
      }
    },
    {
      "cell_type": "code",
      "source": [
        "from numpy import linalg as la\n",
        "import numpy as np\n",
        "\n",
        "t = 0.0\n",
        "x = 0.0\n",
        "n = 0.0\n",
        "k = 0\n",
        "\n",
        "mX = [[t], [x], [n]]\n"
      ],
      "metadata": {
        "id": "W_kGdukbXy2Q"
      },
      "execution_count": 3,
      "outputs": []
    },
    {
      "cell_type": "markdown",
      "source": [
        "Para o método de Gauss-Seidel, é necessário isolar cada variável do sistema de equações, para isso, deve ser verificado se o módulo do coeficiente da variável isolada é maior ou igual à soma dos módulos dos coeficientes restantes na equação."
      ],
      "metadata": {
        "id": "T8SOlSkNZkfQ"
      }
    },
    {
      "cell_type": "code",
      "source": [
        "erroT = False\n",
        "erroX = False\n",
        "erroN = False\n",
        "while erroT==False and erroX==False and erroN==False:\n",
        "  t1 = (39-x-n)/2\n",
        "  x1 = (13-(0.3*t1)-(0.25*n))\n",
        "  n1 = (45-t1-x1)/2\n",
        "  erroT = t1<0.001 or t1 == t\n",
        "  erroX = x1<0.001 or x1 == x\n",
        "  erroN = n1<0.001 or n1 == n\n",
        "  if erroT==False and erroX==False and erroN==False:\n",
        "    t = t1\n",
        "    x = x1\n",
        "    n = n1\n",
        "    k = k+1\n",
        "  print(\"t1 = \",t1)\n",
        "  print(\"x1 = \",x1)\n",
        "  print(\"n1 = \",n1)\n",
        "  print(\"k = \",k)\n",
        "print(\"t =\", t)\n",
        "print(\"x =\", x)\n",
        "print(\"n =\", n)\n",
        "print(\"k =\", k)"
      ],
      "metadata": {
        "colab": {
          "base_uri": "https://localhost:8080/",
          "height": 0
        },
        "id": "IMpMVUxXZt55",
        "outputId": "bf3f21ce-1afd-493d-9762-7af20f6feca0"
      },
      "execution_count": 7,
      "outputs": [
        {
          "output_type": "stream",
          "name": "stdout",
          "text": [
            "t1 =  8.77551020408163\n",
            "x1 =  6.6734693877551035\n",
            "n1 =  14.775510204081634\n",
            "k =  87508489\n",
            "t = 8.77551020408163\n",
            "x = 6.6734693877551035\n",
            "n = 14.775510204081634\n",
            "k = 87508489\n"
          ]
        }
      ]
    },
    {
      "cell_type": "markdown",
      "source": [],
      "metadata": {
        "id": "wEPEmXsEZiX7"
      }
    },
    {
      "cell_type": "markdown",
      "source": [
        "# APOL 1 Ex. 3"
      ],
      "metadata": {
        "id": "v_S8EYgGi_Nv"
      }
    },
    {
      "cell_type": "code",
      "source": [],
      "metadata": {
        "id": "uJREpJ6lrV2x"
      },
      "execution_count": null,
      "outputs": []
    },
    {
      "cell_type": "code",
      "source": [],
      "metadata": {
        "id": "HBPTf2QDdVFx"
      },
      "execution_count": null,
      "outputs": []
    },
    {
      "cell_type": "markdown",
      "source": [
        "Utilizando o processo de Gauss-Seidel com precisão de 10-2 e realizando os cálculos com arredondamento na sexta casa decimal, que resultados são obtidos para o sistema:\n",
        "\n",
        "\n",
        "x1+8x2+2x3=10\n",
        "\n",
        "\n",
        "15x1+x2+2x3=13\n",
        "\n",
        "\n",
        "x1+2x2+3x3=-4\n",
        "\n",
        "Fórmulas:\n",
        "\n",
        "10-8x2 = x1+2x3  => x2 = (-x1-2x3+10)/8\n",
        "\n",
        "13-15x1=x2+2x3  =>  x1 = (-x2-x3+13)/15\n",
        "\n",
        "-4-3x3 = x1+2x2  => x3 = (-x1-2x2+4)/3"
      ],
      "metadata": {
        "id": "BZReDQdErVKS"
      }
    },
    {
      "cell_type": "code",
      "source": [
        "from numpy import linalg as la\n",
        "import numpy as np\n",
        "\n",
        "mA = np.array(\n",
        "  [\n",
        "    [1.0, 8.0, 2.0],\n",
        "    [15.0, 1.0, 2.0],\n",
        "    [1.0, 2.0, 3.0]\n",
        "  ]\n",
        ")\n",
        "mB = np.array(\n",
        "    [\n",
        "      [10.0], [13.0], [-4.0]\n",
        "    ]\n",
        ")\n",
        "\n",
        "t = 0.0\n",
        "x = 0.0\n",
        "n = 0.0\n",
        "k = 0\n",
        "print(t>=0.001)\n",
        "while(t>=0.001 and x>=0.001 and n>=0.001):\n",
        "  x1 = (-1*t-2*n+10)/15\n",
        "  t1 = (-1*x1-2*n+10)/8\n",
        "  n1 = (-1*t1-2*x1+4)/3\n",
        "  print(\"t1 = \",t1)\n",
        "  print(\"x1 = \",x1)\n",
        "  print(\"n1 = \",n1)\n",
        "  if(x1<0.001 or t1<0.001 or n1<0.001):\n",
        "    break\n",
        "  t = t1\n",
        "  x = x1\n",
        "  n = n1\n",
        "  k = k+1\n",
        "print(\"t = \",t)\n",
        "print(\"x = \",x)\n",
        "print(\"n = \", n)\n",
        "print(\"k = \", k)\n"
      ],
      "metadata": {
        "id": "mabpzC6KjEtc",
        "outputId": "e119d504-f0ce-412e-ee34-079f915774e3",
        "colab": {
          "base_uri": "https://localhost:8080/"
        }
      },
      "execution_count": 6,
      "outputs": [
        {
          "output_type": "stream",
          "name": "stdout",
          "text": [
            "False\n",
            "t =  0.0\n",
            "x =  0.0\n",
            "n =  0.0\n",
            "k =  0\n"
          ]
        }
      ]
    }
  ]
}